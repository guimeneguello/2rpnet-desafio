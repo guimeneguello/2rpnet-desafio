{
 "cells": [
  {
   "attachments": {},
   "cell_type": "markdown",
   "metadata": {},
   "source": [
    "# Processo seletivo 2RPNet - Desafio\n",
    "\n",
    "Queries"
   ]
  },
  {
   "attachments": {},
   "cell_type": "markdown",
   "metadata": {},
   "source": [
    "Para trabalhar com os dados, devido ao grande volume e falta de um RDBMS, limitei à um numero bem menor de linhas comparado ao todo. Lí poucas linhas com um dataframe Pandas, transformei esse dataframe em um dataframe Spark e rodei rotinas SQL usando Spark.sql."
   ]
  },
  {
   "cell_type": "code",
   "execution_count": 1,
   "metadata": {},
   "outputs": [
    {
     "name": "stderr",
     "output_type": "stream",
     "text": [
      "23/05/22 11:29:12 WARN Utils: Your hostname, guilherme-VirtualBox resolves to a loopback address: 127.0.1.1; using 10.0.2.15 instead (on interface enp0s3)\n",
      "23/05/22 11:29:13 WARN Utils: Set SPARK_LOCAL_IP if you need to bind to another address\n",
      "Setting default log level to \"WARN\".\n",
      "To adjust logging level use sc.setLogLevel(newLevel). For SparkR, use setLogLevel(newLevel).\n",
      "23/05/22 11:29:16 WARN NativeCodeLoader: Unable to load native-hadoop library for your platform... using builtin-java classes where applicable\n",
      "23/05/22 11:29:21 WARN Utils: Service 'SparkUI' could not bind on port 4040. Attempting port 4041.\n"
     ]
    }
   ],
   "source": [
    "import pandas as pd\n",
    "from pyspark.sql.functions import *\n",
    "from pyspark.sql import SparkSession\n",
    "spark = SparkSession.builder.getOrCreate()"
   ]
  },
  {
   "cell_type": "code",
   "execution_count": 2,
   "metadata": {},
   "outputs": [],
   "source": [
    "df = pd.read_csv(\"EPD_202302.ZIP\", header=0, nrows=100000)\n",
    "##ler as 100000 primeiras linhas e armazenar num df Pandas"
   ]
  },
  {
   "cell_type": "code",
   "execution_count": 3,
   "metadata": {},
   "outputs": [],
   "source": [
    "sparkDF = spark.createDataFrame(df)\n",
    "##transforma o df pandas em um df spark,\n",
    "## para ser possível rodar rotinas SQL"
   ]
  },
  {
   "cell_type": "code",
   "execution_count": 4,
   "metadata": {},
   "outputs": [
    {
     "name": "stdout",
     "output_type": "stream",
     "text": [
      "root\n",
      " |-- YEAR_MONTH: long (nullable = true)\n",
      " |-- REGIONAL_OFFICE_NAME: string (nullable = true)\n",
      " |-- REGIONAL_OFFICE_CODE: string (nullable = true)\n",
      " |-- ICB_NAME: string (nullable = true)\n",
      " |-- ICB_CODE: string (nullable = true)\n",
      " |-- PCO_NAME: string (nullable = true)\n",
      " |-- PCO_CODE: string (nullable = true)\n",
      " |-- PRACTICE_NAME: string (nullable = true)\n",
      " |-- PRACTICE_CODE: string (nullable = true)\n",
      " |-- ADDRESS_1: string (nullable = true)\n",
      " |-- ADDRESS_2: string (nullable = true)\n",
      " |-- ADDRESS_3: string (nullable = true)\n",
      " |-- ADDRESS_4: string (nullable = true)\n",
      " |-- POSTCODE: string (nullable = true)\n",
      " |-- BNF_CHEMICAL_SUBSTANCE: string (nullable = true)\n",
      " |-- CHEMICAL_SUBSTANCE_BNF_DESCR: string (nullable = true)\n",
      " |-- BNF_CODE: string (nullable = true)\n",
      " |-- BNF_DESCRIPTION: string (nullable = true)\n",
      " |-- BNF_CHAPTER_PLUS_CODE: string (nullable = true)\n",
      " |-- QUANTITY: double (nullable = true)\n",
      " |-- ITEMS: long (nullable = true)\n",
      " |-- TOTAL_QUANTITY: double (nullable = true)\n",
      " |-- ADQUSAGE: double (nullable = true)\n",
      " |-- NIC: double (nullable = true)\n",
      " |-- ACTUAL_COST: double (nullable = true)\n",
      " |-- UNIDENTIFIED: string (nullable = true)\n",
      "\n"
     ]
    }
   ],
   "source": [
    "sparkDF.printSchema()"
   ]
  },
  {
   "cell_type": "code",
   "execution_count": 4,
   "metadata": {},
   "outputs": [
    {
     "name": "stderr",
     "output_type": "stream",
     "text": [
      "23/05/22 11:31:03 WARN package: Truncated the string representation of a plan since it was too large. This behavior can be adjusted by setting 'spark.sql.debug.maxToStringFields'.\n",
      "23/05/22 11:31:08 WARN TaskSetManager: Stage 0 contains a task of very large size (15579 KiB). The maximum recommended task size is 1000 KiB.\n",
      "23/05/22 11:31:15 WARN PythonRunner: Detected deadlock while completing task 0.0 in stage 0 (TID 0): Attempting to kill Python Worker\n",
      "                                                                                \r"
     ]
    },
    {
     "name": "stdout",
     "output_type": "stream",
     "text": [
      "+----------+--------------------+--------------------+--------------------+--------+--------------------+--------+--------------+-------------+--------------------+---------+---------+---------+--------+----------------------+----------------------------+---------------+--------------------+---------------------+--------+-----+--------------+--------+------+-----------+------------+\n",
      "|YEAR_MONTH|REGIONAL_OFFICE_NAME|REGIONAL_OFFICE_CODE|            ICB_NAME|ICB_CODE|            PCO_NAME|PCO_CODE| PRACTICE_NAME|PRACTICE_CODE|           ADDRESS_1|ADDRESS_2|ADDRESS_3|ADDRESS_4|POSTCODE|BNF_CHEMICAL_SUBSTANCE|CHEMICAL_SUBSTANCE_BNF_DESCR|       BNF_CODE|     BNF_DESCRIPTION|BNF_CHAPTER_PLUS_CODE|QUANTITY|ITEMS|TOTAL_QUANTITY|ADQUSAGE|   NIC|ACTUAL_COST|UNIDENTIFIED|\n",
      "+----------+--------------------+--------------------+--------------------+--------+--------------------+--------+--------------+-------------+--------------------+---------+---------+---------+--------+----------------------+----------------------------+---------------+--------------------+---------------------+--------+-----+--------------+--------+------+-----------+------------+\n",
      "|    202302|          SOUTH WEST|                 Y58|NHS CORNWALL AND ...|     QT6|NHS CORNWALL AND ...|   11N00|BOSVENA HEALTH|       L82010|STILLMOOR HOUSE M...|BELL LANE|   BODMIN| CORNWALL|PL31 2JJ|             0407020A0|                    Fentanyl|0407020A0AAAUAU|Fentanyl 12microg...| 04: Central Nervo...|     5.0|    3|          15.0|     0.0| 37.77|   35.44497|           N|\n",
      "|    202302|          SOUTH WEST|                 Y58|NHS CORNWALL AND ...|     QT6|NHS CORNWALL AND ...|   11N00|BOSVENA HEALTH|       L82010|STILLMOOR HOUSE M...|BELL LANE|   BODMIN| CORNWALL|PL31 2JJ|             0407020A0|                    Fentanyl|0407020A0AAAUAU|Fentanyl 12microg...| 04: Central Nervo...|    10.0|    1|          10.0|     0.0| 25.18|   23.61758|           N|\n",
      "|    202302|          SOUTH WEST|                 Y58|NHS CORNWALL AND ...|     QT6|NHS CORNWALL AND ...|   11N00|BOSVENA HEALTH|       L82010|STILLMOOR HOUSE M...|BELL LANE|   BODMIN| CORNWALL|PL31 2JJ|             0407020A0|                    Fentanyl|0407020A0BBAIAE|Durogesic DTrans ...| 04: Central Nervo...|    10.0|    1|          10.0|     0.0| 35.98|   33.74212|           N|\n",
      "|    202302|          SOUTH WEST|                 Y58|NHS CORNWALL AND ...|     QT6|NHS CORNWALL AND ...|   11N00|BOSVENA HEALTH|       L82010|STILLMOOR HOUSE M...|BELL LANE|   BODMIN| CORNWALL|PL31 2JJ|             0407020A0|                    Fentanyl|0407020A0BBAJAF|Durogesic DTrans ...| 04: Central Nervo...|    10.0|    2|          20.0|    60.0|134.64|  126.24407|           N|\n",
      "|    202302|          SOUTH WEST|                 Y58|NHS CORNWALL AND ...|     QT6|NHS CORNWALL AND ...|   11N00|BOSVENA HEALTH|       L82010|STILLMOOR HOUSE M...|BELL LANE|   BODMIN| CORNWALL|PL31 2JJ|             0407020A0|                    Fentanyl|0407020A0BQACAF|Fencino 50microgr...| 04: Central Nervo...|     5.0|    2|          10.0|    30.0| 45.24|   42.43537|           N|\n",
      "+----------+--------------------+--------------------+--------------------+--------+--------------------+--------+--------------+-------------+--------------------+---------+---------+---------+--------+----------------------+----------------------------+---------------+--------------------+---------------------+--------+-----+--------------+--------+------+-----------+------------+\n",
      "only showing top 5 rows\n",
      "\n"
     ]
    }
   ],
   "source": [
    "sparkDF.createOrReplaceTempView(\"dfView\")\n",
    "spark.sql(\"\"\"SELECT *\n",
    "FROM dfview;\n",
    "\"\"\").show(5)"
   ]
  },
  {
   "attachments": {},
   "cell_type": "markdown",
   "metadata": {},
   "source": [
    "### a. Crie um dataframe contendo os 10 principais produtos químicos prescritos por região."
   ]
  },
  {
   "cell_type": "code",
   "execution_count": 21,
   "metadata": {},
   "outputs": [
    {
     "name": "stderr",
     "output_type": "stream",
     "text": [
      "23/05/21 22:02:47 WARN TaskSetManager: Stage 28 contains a task of very large size (15579 KiB). The maximum recommended task size is 1000 KiB.\n",
      "[Stage 28:>                                                         (0 + 1) / 1]\r"
     ]
    },
    {
     "name": "stdout",
     "output_type": "stream",
     "text": [
      "+---------------+--------------------+\n",
      "|         regiao|        prod_quimico|\n",
      "+---------------+--------------------+\n",
      "|EAST OF ENGLAND|      Colecalciferol|\n",
      "|EAST OF ENGLAND|    Other Appliances|\n",
      "|EAST OF ENGLAND|           Estradiol|\n",
      "|EAST OF ENGLAND|        Eye Products|\n",
      "|EAST OF ENGLAND|Metformin hydroch...|\n",
      "|EAST OF ENGLAND|Levothyroxine sodium|\n",
      "|EAST OF ENGLAND|Glucose blood tes...|\n",
      "|EAST OF ENGLAND|          Gabapentin|\n",
      "|EAST OF ENGLAND|Co-codamol (Codei...|\n",
      "|EAST OF ENGLAND|       Macrogol 3350|\n",
      "|         LONDON|      Colecalciferol|\n",
      "|         LONDON|Metformin hydroch...|\n",
      "|         LONDON|Levothyroxine sodium|\n",
      "|         LONDON|    Other Appliances|\n",
      "|         LONDON|           Estradiol|\n",
      "|         LONDON|        Eye Products|\n",
      "|         LONDON|          Emollients|\n",
      "|         LONDON|        Prednisolone|\n",
      "|         LONDON|Glucose blood tes...|\n",
      "|         LONDON|          Pregabalin|\n",
      "+---------------+--------------------+\n",
      "only showing top 20 rows\n",
      "\n"
     ]
    },
    {
     "name": "stderr",
     "output_type": "stream",
     "text": [
      "                                                                                \r"
     ]
    }
   ],
   "source": [
    "spark.sql(\"\"\"\n",
    "SELECT\n",
    "    REGIONAL_OFFICE_NAME as regiao,\n",
    "    CHEMICAL_SUBSTANCE_BNF_DESCR as prod_quimico\n",
    "FROM (\n",
    "    SELECT\n",
    "        REGIONAL_OFFICE_NAME,\n",
    "        CHEMICAL_SUBSTANCE_BNF_DESCR,\n",
    "        COUNT(CHEMICAL_SUBSTANCE_BNF_DESCR) as N_PRESCRIPTIONS,\n",
    "        RANK() OVER (\n",
    "            PARTITION BY REGIONAL_OFFICE_NAME ORDER BY COUNT(CHEMICAL_SUBSTANCE_BNF_DESCR) DESC\n",
    "        ) as RANK\n",
    "    FROM dfview\n",
    "    GROUP BY REGIONAL_OFFICE_NAME, CHEMICAL_SUBSTANCE_BNF_DESCR\n",
    ") as rank_f WHERE RANK <= 10;\n",
    "\"\"\").show(20)"
   ]
  },
  {
   "attachments": {},
   "cell_type": "markdown",
   "metadata": {},
   "source": [
    "### b. Quais produtos químicos prescritos tiveram a maior somatória de custos por mês? Liste os 10 primeiros"
   ]
  },
  {
   "cell_type": "code",
   "execution_count": 23,
   "metadata": {},
   "outputs": [
    {
     "name": "stderr",
     "output_type": "stream",
     "text": [
      "23/05/21 22:04:16 WARN TaskSetManager: Stage 37 contains a task of very large size (15579 KiB). The maximum recommended task size is 1000 KiB.\n",
      "[Stage 37:>                                                         (0 + 1) / 1]\r"
     ]
    },
    {
     "name": "stdout",
     "output_type": "stream",
     "text": [
      "+--------------------+-------+---------+\n",
      "|        prod_quimico|ano_mes|custo_max|\n",
      "+--------------------+-------+---------+\n",
      "|Other eye tear/lu...| 202302|    14.14|\n",
      "|           Sterculia| 202302|    12.53|\n",
      "|          Permethrin| 202302|   111.78|\n",
      "|Mometasone/glycop...| 202302|   208.65|\n",
      "|           Mupirocin| 202302|     31.9|\n",
      "|          Eprosartan| 202302|    67.14|\n",
      "|        Prucalopride| 202302|   288.01|\n",
      "|Specialist food r...| 202302|    50.07|\n",
      "|RtS 2.4 kcal/ml d...| 202302|   129.17|\n",
      "|             Estriol| 202302|   469.22|\n",
      "+--------------------+-------+---------+\n",
      "\n"
     ]
    },
    {
     "name": "stderr",
     "output_type": "stream",
     "text": [
      "                                                                                \r"
     ]
    }
   ],
   "source": [
    "spark.sql(\"\"\"\n",
    "    SELECT\n",
    "    CHEMICAL_SUBSTANCE_BNF_DESCR as prod_quimico,\n",
    "    YEAR_MONTH as ano_mes,\n",
    "    MAX_COST as custo_max\n",
    "FROM \n",
    "(\n",
    "    SELECT\n",
    "        CHEMICAL_SUBSTANCE_BNF_DESCR,\n",
    "        ROUND(MAX(ACTUAL_COST),2) as MAX_COST,\n",
    "        YEAR_MONTH\n",
    "    FROM dfview\n",
    "    GROUP BY CHEMICAL_SUBSTANCE_BNF_DESCR, YEAR_MONTH\n",
    ")\n",
    "LIMIT 10;\n",
    "\"\"\").show(10)\n",
    "## Apesar de estar trabalhando com dados de apenas\n",
    "## 1 mês, a query acima funcionaria para um dataset\n",
    "## com mais meses"
   ]
  },
  {
   "attachments": {},
   "cell_type": "markdown",
   "metadata": {},
   "source": [
    "### c. Quais são as prescrições mais comuns?"
   ]
  },
  {
   "cell_type": "code",
   "execution_count": 32,
   "metadata": {},
   "outputs": [
    {
     "name": "stderr",
     "output_type": "stream",
     "text": [
      "23/05/21 14:27:47 WARN TaskSetManager: Stage 53 contains a task of very large size (15579 KiB). The maximum recommended task size is 1000 KiB.\n",
      "[Stage 53:>                                                         (0 + 1) / 1]\r"
     ]
    },
    {
     "name": "stdout",
     "output_type": "stream",
     "text": [
      "+--------------------+---------------+\n",
      "|          prescricao|vezes_prescrito|\n",
      "+--------------------+---------------+\n",
      "|Paracetamol 500mg...|            479|\n",
      "|Gabapentin 300mg ...|            466|\n",
      "|Prednisolone 5mg ...|            443|\n",
      "|Tramadol 50mg cap...|            391|\n",
      "|Metformin 500mg t...|            366|\n",
      "|Fluoxetine 20mg c...|            334|\n",
      "|Amitriptyline 10m...|            322|\n",
      "|Codeine 30mg tablets|            319|\n",
      "|Folic acid 5mg ta...|            317|\n",
      "|Levothyroxine sod...|            310|\n",
      "+--------------------+---------------+\n",
      "\n"
     ]
    },
    {
     "name": "stderr",
     "output_type": "stream",
     "text": [
      "                                                                                \r"
     ]
    }
   ],
   "source": [
    "spark.sql(\"\"\"\n",
    "SELECT BNF_DESCRIPTION as prescricao, COUNT(BNF_DESCRIPTION) as vezes_prescrito\n",
    "FROM dfview\n",
    "GROUP BY prescricao\n",
    "ORDER BY vezes_prescrito DESC\n",
    "LIMIT 10;\n",
    "\"\"\").show(10)"
   ]
  },
  {
   "attachments": {},
   "cell_type": "markdown",
   "metadata": {},
   "source": [
    "### d. Qual produto químico é mais prescrito por cada prescriber?"
   ]
  },
  {
   "cell_type": "code",
   "execution_count": 47,
   "metadata": {},
   "outputs": [
    {
     "ename": "ParseException",
     "evalue": "\n[PARSE_SYNTAX_ERROR] Syntax error at or near 'dfview'.(line 4, pos 5)\n\n== SQL ==\n\nSELECT CHEMICAL_SUBSTANCE_BNF_DESCR, PCO_NAME, MAX(vezes)\nFROM (SELECT CHEMICAL_SUBSTANCE_BNF_DESCR, PCO_NAME, COUNT(CHEMICAL_SUBSTANCE_BNF_DESCR, PCO_NAME) as vezes)\nFROM dfview \n-----^^^\nGROUP BY CHEMICAL_SUBSTANCE_BNF_DESCR, PCO_NAME\nORDER BY MAX(vezes) DESC\n",
     "output_type": "error",
     "traceback": [
      "\u001b[0;31m---------------------------------------------------------------------------\u001b[0m",
      "\u001b[0;31mParseException\u001b[0m                            Traceback (most recent call last)",
      "Cell \u001b[0;32mIn[47], line 1\u001b[0m\n\u001b[0;32m----> 1\u001b[0m spark\u001b[39m.\u001b[39;49msql(\u001b[39m\"\"\"\u001b[39;49m\n\u001b[1;32m      2\u001b[0m \u001b[39mSELECT CHEMICAL_SUBSTANCE_BNF_DESCR, PCO_NAME, MAX(vezes)\u001b[39;49m\n\u001b[1;32m      3\u001b[0m \u001b[39mFROM (SELECT CHEMICAL_SUBSTANCE_BNF_DESCR, PCO_NAME, COUNT(CHEMICAL_SUBSTANCE_BNF_DESCR, PCO_NAME) as vezes)\u001b[39;49m\n\u001b[1;32m      4\u001b[0m \u001b[39mFROM dfview \u001b[39;49m\n\u001b[1;32m      5\u001b[0m \u001b[39mGROUP BY CHEMICAL_SUBSTANCE_BNF_DESCR, PCO_NAME\u001b[39;49m\n\u001b[1;32m      6\u001b[0m \u001b[39mORDER BY MAX(vezes) DESC\u001b[39;49m\n\u001b[1;32m      7\u001b[0m \u001b[39m\"\"\"\u001b[39;49m)\u001b[39m.\u001b[39mshow(\u001b[39m10\u001b[39m)\n",
      "File \u001b[0;32m~/.local/lib/python3.8/site-packages/pyspark/sql/session.py:1440\u001b[0m, in \u001b[0;36mSparkSession.sql\u001b[0;34m(self, sqlQuery, args, **kwargs)\u001b[0m\n\u001b[1;32m   1438\u001b[0m \u001b[39mtry\u001b[39;00m:\n\u001b[1;32m   1439\u001b[0m     litArgs \u001b[39m=\u001b[39m {k: _to_java_column(lit(v)) \u001b[39mfor\u001b[39;00m k, v \u001b[39min\u001b[39;00m (args \u001b[39mor\u001b[39;00m {})\u001b[39m.\u001b[39mitems()}\n\u001b[0;32m-> 1440\u001b[0m     \u001b[39mreturn\u001b[39;00m DataFrame(\u001b[39mself\u001b[39;49m\u001b[39m.\u001b[39;49m_jsparkSession\u001b[39m.\u001b[39;49msql(sqlQuery, litArgs), \u001b[39mself\u001b[39m)\n\u001b[1;32m   1441\u001b[0m \u001b[39mfinally\u001b[39;00m:\n\u001b[1;32m   1442\u001b[0m     \u001b[39mif\u001b[39;00m \u001b[39mlen\u001b[39m(kwargs) \u001b[39m>\u001b[39m \u001b[39m0\u001b[39m:\n",
      "File \u001b[0;32m~/.local/lib/python3.8/site-packages/py4j/java_gateway.py:1322\u001b[0m, in \u001b[0;36mJavaMember.__call__\u001b[0;34m(self, *args)\u001b[0m\n\u001b[1;32m   1316\u001b[0m command \u001b[39m=\u001b[39m proto\u001b[39m.\u001b[39mCALL_COMMAND_NAME \u001b[39m+\u001b[39m\\\n\u001b[1;32m   1317\u001b[0m     \u001b[39mself\u001b[39m\u001b[39m.\u001b[39mcommand_header \u001b[39m+\u001b[39m\\\n\u001b[1;32m   1318\u001b[0m     args_command \u001b[39m+\u001b[39m\\\n\u001b[1;32m   1319\u001b[0m     proto\u001b[39m.\u001b[39mEND_COMMAND_PART\n\u001b[1;32m   1321\u001b[0m answer \u001b[39m=\u001b[39m \u001b[39mself\u001b[39m\u001b[39m.\u001b[39mgateway_client\u001b[39m.\u001b[39msend_command(command)\n\u001b[0;32m-> 1322\u001b[0m return_value \u001b[39m=\u001b[39m get_return_value(\n\u001b[1;32m   1323\u001b[0m     answer, \u001b[39mself\u001b[39;49m\u001b[39m.\u001b[39;49mgateway_client, \u001b[39mself\u001b[39;49m\u001b[39m.\u001b[39;49mtarget_id, \u001b[39mself\u001b[39;49m\u001b[39m.\u001b[39;49mname)\n\u001b[1;32m   1325\u001b[0m \u001b[39mfor\u001b[39;00m temp_arg \u001b[39min\u001b[39;00m temp_args:\n\u001b[1;32m   1326\u001b[0m     \u001b[39mif\u001b[39;00m \u001b[39mhasattr\u001b[39m(temp_arg, \u001b[39m\"\u001b[39m\u001b[39m_detach\u001b[39m\u001b[39m\"\u001b[39m):\n",
      "File \u001b[0;32m~/.local/lib/python3.8/site-packages/pyspark/errors/exceptions/captured.py:175\u001b[0m, in \u001b[0;36mcapture_sql_exception.<locals>.deco\u001b[0;34m(*a, **kw)\u001b[0m\n\u001b[1;32m    171\u001b[0m converted \u001b[39m=\u001b[39m convert_exception(e\u001b[39m.\u001b[39mjava_exception)\n\u001b[1;32m    172\u001b[0m \u001b[39mif\u001b[39;00m \u001b[39mnot\u001b[39;00m \u001b[39misinstance\u001b[39m(converted, UnknownException):\n\u001b[1;32m    173\u001b[0m     \u001b[39m# Hide where the exception came from that shows a non-Pythonic\u001b[39;00m\n\u001b[1;32m    174\u001b[0m     \u001b[39m# JVM exception message.\u001b[39;00m\n\u001b[0;32m--> 175\u001b[0m     \u001b[39mraise\u001b[39;00m converted \u001b[39mfrom\u001b[39;00m \u001b[39mNone\u001b[39;00m\n\u001b[1;32m    176\u001b[0m \u001b[39melse\u001b[39;00m:\n\u001b[1;32m    177\u001b[0m     \u001b[39mraise\u001b[39;00m\n",
      "\u001b[0;31mParseException\u001b[0m: \n[PARSE_SYNTAX_ERROR] Syntax error at or near 'dfview'.(line 4, pos 5)\n\n== SQL ==\n\nSELECT CHEMICAL_SUBSTANCE_BNF_DESCR, PCO_NAME, MAX(vezes)\nFROM (SELECT CHEMICAL_SUBSTANCE_BNF_DESCR, PCO_NAME, COUNT(CHEMICAL_SUBSTANCE_BNF_DESCR, PCO_NAME) as vezes)\nFROM dfview \n-----^^^\nGROUP BY CHEMICAL_SUBSTANCE_BNF_DESCR, PCO_NAME\nORDER BY MAX(vezes) DESC\n"
     ]
    }
   ],
   "source": [
    "from pyspark.sql.functions import *\n",
    "spark.sql(\"\"\"\n",
    "select CHEMICAL_SUBSTANCE_BNF_DESCR, PCO_NAME, COUNT(CHEMICAL_SUBSTANCE_BNF_DESCR, PCO_NAME) as vezes\n",
    "from dfView \n",
    "group by CHEMICAL_SUBSTANCE_BNF_DESCR, PCO_NAME\n",
    "\"\"\").\\\n",
    "groupBy(\"PCO_NAME\").agg(first(\"CHEMICAL_SUBSTANCE_BNF_DESCR\"),max(\"vezes\")).show()"
   ]
  },
  {
   "attachments": {},
   "cell_type": "markdown",
   "metadata": {},
   "source": [
    "### e. Quantos prescribers foram adicionados no último mês?"
   ]
  },
  {
   "cell_type": "code",
   "execution_count": 29,
   "metadata": {},
   "outputs": [
    {
     "name": "stderr",
     "output_type": "stream",
     "text": [
      "23/05/21 14:24:32 WARN TaskSetManager: Stage 43 contains a task of very large size (15579 KiB). The maximum recommended task size is 1000 KiB.\n",
      "23/05/21 14:24:35 WARN TaskSetManager: Stage 44 contains a task of very large size (15579 KiB). The maximum recommended task size is 1000 KiB.\n",
      "[Stage 44:>                                                         (0 + 1) / 1]\r"
     ]
    },
    {
     "name": "stdout",
     "output_type": "stream",
     "text": [
      "+--------------------+\n",
      "|          prescriber|\n",
      "+--------------------+\n",
      "|NHS NOTTINGHAM AN...|\n",
      "|NHS GREATER MANCH...|\n",
      "|NHS WEST YORKSHIR...|\n",
      "|NHS NORTHAMPTONSH...|\n",
      "|NHS CAMBRIDGESHIR...|\n",
      "|NHS NORTH EAST AN...|\n",
      "|NHS BLACK COUNTRY...|\n",
      "|NHS KENT AND MEDW...|\n",
      "|NHS CORNWALL AND ...|\n",
      "|NHS SOUTH WEST LO...|\n",
      "+--------------------+\n",
      "only showing top 10 rows\n",
      "\n"
     ]
    },
    {
     "name": "stderr",
     "output_type": "stream",
     "text": [
      "                                                                                \r"
     ]
    }
   ],
   "source": [
    "spark.sql(\"\"\"\n",
    "SELECT DISTINCT PCO_NAME as prescriber\n",
    "FROM dfview\n",
    "WHERE YEAR_MONTH LIKE \"%%%%02\" \n",
    "AND NOT EXISTS(\n",
    "    SELECT PCO_NAME as prescriber\n",
    "    FROM dfview\n",
    "    WHERE YEAR_MONTH NOT LIKE \"%%%%02\"\n",
    ");\n",
    "\"\"\").show(10)\n",
    "## Apesar de estar trabalhando com dados de apenas\n",
    "## 1 mês, a query acima funcionaria para um dataset\n",
    "## com mais meses"
   ]
  },
  {
   "attachments": {},
   "cell_type": "markdown",
   "metadata": {},
   "source": [
    "### f. Quais prescribers atuam em mais de uma região? Ordene por quantidade de regiões atendidas."
   ]
  },
  {
   "cell_type": "code",
   "execution_count": 69,
   "metadata": {},
   "outputs": [
    {
     "name": "stderr",
     "output_type": "stream",
     "text": [
      "23/05/21 23:21:40 WARN TaskSetManager: Stage 161 contains a task of very large size (15579 KiB). The maximum recommended task size is 1000 KiB.\n",
      "[Stage 161:>                                                        (0 + 1) / 1]\r"
     ]
    },
    {
     "name": "stdout",
     "output_type": "stream",
     "text": [
      "+----------+---------------------+\n",
      "|prescriber|nro_regioes_atendidas|\n",
      "+----------+---------------------+\n",
      "+----------+---------------------+\n",
      "\n"
     ]
    },
    {
     "name": "stderr",
     "output_type": "stream",
     "text": [
      "                                                                                \r"
     ]
    }
   ],
   "source": [
    "spark.sql(\"\"\"\n",
    "    SELECT PCO_NAME as prescriber, COUNT(DISTINCT PCO_NAME, REGIONAL_OFFICE_NAME) as nro_regioes_atendidas\n",
    "    FROM dfview\n",
    "    GROUP BY prescriber\n",
    "    HAVING nro_regioes_atendidas > 1\n",
    "    ORDER BY nro_regioes_atendidas DESC\n",
    "\"\"\").show(20)"
   ]
  },
  {
   "attachments": {},
   "cell_type": "markdown",
   "metadata": {},
   "source": [
    "### g. Qual o preço médio dos químicos prescritos no último mês coletado?"
   ]
  },
  {
   "cell_type": "code",
   "execution_count": 30,
   "metadata": {},
   "outputs": [
    {
     "name": "stderr",
     "output_type": "stream",
     "text": [
      "23/05/21 14:26:35 WARN TaskSetManager: Stage 47 contains a task of very large size (15579 KiB). The maximum recommended task size is 1000 KiB.\n",
      "[Stage 47:>                                                         (0 + 1) / 1]\r"
     ]
    },
    {
     "name": "stdout",
     "output_type": "stream",
     "text": [
      "+--------------------+-----------+\n",
      "|        prod_quimico|preco_medio|\n",
      "+--------------------+-----------+\n",
      "|Other food for sp...|    4016.65|\n",
      "|        Voriconazole|    3618.99|\n",
      "|           Diazoxide|    3299.87|\n",
      "|Powder 20g GMP pr...|    2357.64|\n",
      "|Apomorphine hydro...|     1631.2|\n",
      "|Powder 15g GMP pr...|    1574.49|\n",
      "|             Danazol|    1468.05|\n",
      "|Apomorphine hydro...|    1323.68|\n",
      "|          Lanreotide|    1317.62|\n",
      "|    Calcium folinate|     1063.7|\n",
      "+--------------------+-----------+\n",
      "only showing top 10 rows\n",
      "\n"
     ]
    },
    {
     "name": "stderr",
     "output_type": "stream",
     "text": [
      "                                                                                \r"
     ]
    }
   ],
   "source": [
    "spark.sql(\"\"\"\n",
    "SELECT CHEMICAL_SUBSTANCE_BNF_DESCR as prod_quimico, ROUND(AVG(ACTUAL_COST), 2) as preco_medio\n",
    "FROM dfview\n",
    "WHERE YEAR_MONTH LIKE \"%%%%02\"\n",
    "GROUP BY prod_quimico\n",
    "ORDER BY preco_medio DESC;\n",
    "\"\"\").show(10)\n",
    "## Apesar de estar trabalhando com dados de apenas\n",
    "## 1 mês, a query acima funcionaria para um dataset\n",
    "## com mais meses"
   ]
  },
  {
   "attachments": {},
   "cell_type": "markdown",
   "metadata": {},
   "source": [
    "### h. Gere uma tabela que contenha apenas a prescrição de maior valor de cada usuário."
   ]
  },
  {
   "cell_type": "code",
   "execution_count": null,
   "metadata": {},
   "outputs": [],
   "source": [
    "## Não entendi o que a solicitação \n",
    "## quis dizer com usuário"
   ]
  }
 ],
 "metadata": {
  "kernelspec": {
   "display_name": "Python 3",
   "language": "python",
   "name": "python3"
  },
  "language_info": {
   "codemirror_mode": {
    "name": "ipython",
    "version": 3
   },
   "file_extension": ".py",
   "mimetype": "text/x-python",
   "name": "python",
   "nbconvert_exporter": "python",
   "pygments_lexer": "ipython3",
   "version": "3.8.10"
  },
  "orig_nbformat": 4
 },
 "nbformat": 4,
 "nbformat_minor": 2
}
