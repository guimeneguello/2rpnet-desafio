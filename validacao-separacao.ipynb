{
 "cells": [
  {
   "attachments": {},
   "cell_type": "markdown",
   "metadata": {},
   "source": [
    "#Processo seletivo 2RPNet - Desafio\n",
    "\n",
    "Validação, separação e armazenamento dos dados "
   ]
  },
  {
   "attachments": {},
   "cell_type": "markdown",
   "metadata": {},
   "source": [
    "Devido à dificuldade que tive com o equipamento para realizar o desafio, usei apenas o dataset referente à fevereiro de 2023, ao invés dos últimos 3(fevereiro, janeiro e dezembro), como pedido. Onde necessário deixei comentado código que realizaria o pedido usando os 3 datasets"
   ]
  },
  {
   "cell_type": "code",
   "execution_count": 1,
   "metadata": {},
   "outputs": [
    {
     "name": "stderr",
     "output_type": "stream",
     "text": [
      "23/05/20 16:53:30 WARN Utils: Your hostname, guilherme-VirtualBox resolves to a loopback address: 127.0.1.1; using 10.0.2.15 instead (on interface enp0s3)\n",
      "23/05/20 16:53:30 WARN Utils: Set SPARK_LOCAL_IP if you need to bind to another address\n",
      "Setting default log level to \"WARN\".\n",
      "To adjust logging level use sc.setLogLevel(newLevel). For SparkR, use setLogLevel(newLevel).\n",
      "23/05/20 16:53:37 WARN NativeCodeLoader: Unable to load native-hadoop library for your platform... using builtin-java classes where applicable\n"
     ]
    }
   ],
   "source": [
    "from pyspark.sql import SparkSession\n",
    "spark = SparkSession.builder.getOrCreate()\n",
    "#spark\n",
    "##iniciado o spark para analisar os dados"
   ]
  },
  {
   "cell_type": "code",
   "execution_count": 3,
   "metadata": {},
   "outputs": [
    {
     "name": "stderr",
     "output_type": "stream",
     "text": [
      "                                                                                \r"
     ]
    }
   ],
   "source": [
    "df = spark.read.csv('EPD_202302.csv',header=True, inferSchema=True)\n",
    "##lendo e atribuindo o dataset. Caso os 3 datasets\n",
    "## fossem ser utilizados, mais dois dataframes seriam\n",
    "## criados(df2 e df3), e depois concatenados(dados que os schemas\n",
    "## são idênticos) com\n",
    "#df4 = df.union(df2)\n",
    "#df-final = df4.union(df3)"
   ]
  },
  {
   "attachments": {},
   "cell_type": "markdown",
   "metadata": {},
   "source": [
    "##Analisando o dataframe"
   ]
  },
  {
   "cell_type": "code",
   "execution_count": 4,
   "metadata": {},
   "outputs": [
    {
     "name": "stderr",
     "output_type": "stream",
     "text": [
      "23/05/20 17:00:01 WARN package: Truncated the string representation of a plan since it was too large. This behavior can be adjusted by setting 'spark.sql.debug.maxToStringFields'.\n",
      "                                                                                \r"
     ]
    },
    {
     "data": {
      "text/html": [
       "<div>\n",
       "<style scoped>\n",
       "    .dataframe tbody tr th:only-of-type {\n",
       "        vertical-align: middle;\n",
       "    }\n",
       "\n",
       "    .dataframe tbody tr th {\n",
       "        vertical-align: top;\n",
       "    }\n",
       "\n",
       "    .dataframe thead th {\n",
       "        text-align: right;\n",
       "    }\n",
       "</style>\n",
       "<table border=\"1\" class=\"dataframe\">\n",
       "  <thead>\n",
       "    <tr style=\"text-align: right;\">\n",
       "      <th></th>\n",
       "      <th>YEAR_MONTH</th>\n",
       "      <th>REGIONAL_OFFICE_NAME</th>\n",
       "      <th>REGIONAL_OFFICE_CODE</th>\n",
       "      <th>ICB_NAME</th>\n",
       "      <th>ICB_CODE</th>\n",
       "      <th>PCO_NAME</th>\n",
       "      <th>PCO_CODE</th>\n",
       "      <th>PRACTICE_NAME</th>\n",
       "      <th>PRACTICE_CODE</th>\n",
       "      <th>ADDRESS_1</th>\n",
       "      <th>...</th>\n",
       "      <th>BNF_CODE</th>\n",
       "      <th>BNF_DESCRIPTION</th>\n",
       "      <th>BNF_CHAPTER_PLUS_CODE</th>\n",
       "      <th>QUANTITY</th>\n",
       "      <th>ITEMS</th>\n",
       "      <th>TOTAL_QUANTITY</th>\n",
       "      <th>ADQUSAGE</th>\n",
       "      <th>NIC</th>\n",
       "      <th>ACTUAL_COST</th>\n",
       "      <th>UNIDENTIFIED</th>\n",
       "    </tr>\n",
       "  </thead>\n",
       "  <tbody>\n",
       "    <tr>\n",
       "      <th>0</th>\n",
       "      <td>202302</td>\n",
       "      <td>SOUTH WEST</td>\n",
       "      <td>Y58</td>\n",
       "      <td>NHS CORNWALL AND THE ISLES OF SCILLY INT</td>\n",
       "      <td>QT6</td>\n",
       "      <td>NHS CORNWALL AND THE ISLES OF SCILLY ICB</td>\n",
       "      <td>11N00</td>\n",
       "      <td>BOSVENA HEALTH</td>\n",
       "      <td>L82010</td>\n",
       "      <td>STILLMOOR HOUSE MED PRACT</td>\n",
       "      <td>...</td>\n",
       "      <td>0407020A0AAAUAU</td>\n",
       "      <td>Fentanyl 12micrograms/hour transdermal patches</td>\n",
       "      <td>04: Central Nervous System</td>\n",
       "      <td>5.0</td>\n",
       "      <td>3</td>\n",
       "      <td>15.0</td>\n",
       "      <td>0.0</td>\n",
       "      <td>37.77</td>\n",
       "      <td>35.44497</td>\n",
       "      <td>N</td>\n",
       "    </tr>\n",
       "    <tr>\n",
       "      <th>1</th>\n",
       "      <td>202302</td>\n",
       "      <td>SOUTH WEST</td>\n",
       "      <td>Y58</td>\n",
       "      <td>NHS CORNWALL AND THE ISLES OF SCILLY INT</td>\n",
       "      <td>QT6</td>\n",
       "      <td>NHS CORNWALL AND THE ISLES OF SCILLY ICB</td>\n",
       "      <td>11N00</td>\n",
       "      <td>BOSVENA HEALTH</td>\n",
       "      <td>L82010</td>\n",
       "      <td>STILLMOOR HOUSE MED PRACT</td>\n",
       "      <td>...</td>\n",
       "      <td>0407020A0AAAUAU</td>\n",
       "      <td>Fentanyl 12micrograms/hour transdermal patches</td>\n",
       "      <td>04: Central Nervous System</td>\n",
       "      <td>10.0</td>\n",
       "      <td>1</td>\n",
       "      <td>10.0</td>\n",
       "      <td>0.0</td>\n",
       "      <td>25.18</td>\n",
       "      <td>23.61758</td>\n",
       "      <td>N</td>\n",
       "    </tr>\n",
       "    <tr>\n",
       "      <th>2</th>\n",
       "      <td>202302</td>\n",
       "      <td>SOUTH WEST</td>\n",
       "      <td>Y58</td>\n",
       "      <td>NHS CORNWALL AND THE ISLES OF SCILLY INT</td>\n",
       "      <td>QT6</td>\n",
       "      <td>NHS CORNWALL AND THE ISLES OF SCILLY ICB</td>\n",
       "      <td>11N00</td>\n",
       "      <td>BOSVENA HEALTH</td>\n",
       "      <td>L82010</td>\n",
       "      <td>STILLMOOR HOUSE MED PRACT</td>\n",
       "      <td>...</td>\n",
       "      <td>0407020A0BBAIAE</td>\n",
       "      <td>Durogesic DTrans 25micrograms/hour transdermal...</td>\n",
       "      <td>04: Central Nervous System</td>\n",
       "      <td>10.0</td>\n",
       "      <td>1</td>\n",
       "      <td>10.0</td>\n",
       "      <td>0.0</td>\n",
       "      <td>35.98</td>\n",
       "      <td>33.74212</td>\n",
       "      <td>N</td>\n",
       "    </tr>\n",
       "    <tr>\n",
       "      <th>3</th>\n",
       "      <td>202302</td>\n",
       "      <td>SOUTH WEST</td>\n",
       "      <td>Y58</td>\n",
       "      <td>NHS CORNWALL AND THE ISLES OF SCILLY INT</td>\n",
       "      <td>QT6</td>\n",
       "      <td>NHS CORNWALL AND THE ISLES OF SCILLY ICB</td>\n",
       "      <td>11N00</td>\n",
       "      <td>BOSVENA HEALTH</td>\n",
       "      <td>L82010</td>\n",
       "      <td>STILLMOOR HOUSE MED PRACT</td>\n",
       "      <td>...</td>\n",
       "      <td>0407020A0BBAJAF</td>\n",
       "      <td>Durogesic DTrans 50micrograms/hour transdermal...</td>\n",
       "      <td>04: Central Nervous System</td>\n",
       "      <td>10.0</td>\n",
       "      <td>2</td>\n",
       "      <td>20.0</td>\n",
       "      <td>60.0</td>\n",
       "      <td>134.64</td>\n",
       "      <td>126.24407</td>\n",
       "      <td>N</td>\n",
       "    </tr>\n",
       "    <tr>\n",
       "      <th>4</th>\n",
       "      <td>202302</td>\n",
       "      <td>SOUTH WEST</td>\n",
       "      <td>Y58</td>\n",
       "      <td>NHS CORNWALL AND THE ISLES OF SCILLY INT</td>\n",
       "      <td>QT6</td>\n",
       "      <td>NHS CORNWALL AND THE ISLES OF SCILLY ICB</td>\n",
       "      <td>11N00</td>\n",
       "      <td>BOSVENA HEALTH</td>\n",
       "      <td>L82010</td>\n",
       "      <td>STILLMOOR HOUSE MED PRACT</td>\n",
       "      <td>...</td>\n",
       "      <td>0407020A0BQACAF</td>\n",
       "      <td>Fencino 50micrograms/hour transdermal patches</td>\n",
       "      <td>04: Central Nervous System</td>\n",
       "      <td>5.0</td>\n",
       "      <td>2</td>\n",
       "      <td>10.0</td>\n",
       "      <td>30.0</td>\n",
       "      <td>45.24</td>\n",
       "      <td>42.43537</td>\n",
       "      <td>N</td>\n",
       "    </tr>\n",
       "  </tbody>\n",
       "</table>\n",
       "<p>5 rows × 26 columns</p>\n",
       "</div>"
      ],
      "text/plain": [
       "   YEAR_MONTH REGIONAL_OFFICE_NAME REGIONAL_OFFICE_CODE  \\\n",
       "0      202302           SOUTH WEST                  Y58   \n",
       "1      202302           SOUTH WEST                  Y58   \n",
       "2      202302           SOUTH WEST                  Y58   \n",
       "3      202302           SOUTH WEST                  Y58   \n",
       "4      202302           SOUTH WEST                  Y58   \n",
       "\n",
       "                                   ICB_NAME ICB_CODE  \\\n",
       "0  NHS CORNWALL AND THE ISLES OF SCILLY INT      QT6   \n",
       "1  NHS CORNWALL AND THE ISLES OF SCILLY INT      QT6   \n",
       "2  NHS CORNWALL AND THE ISLES OF SCILLY INT      QT6   \n",
       "3  NHS CORNWALL AND THE ISLES OF SCILLY INT      QT6   \n",
       "4  NHS CORNWALL AND THE ISLES OF SCILLY INT      QT6   \n",
       "\n",
       "                                   PCO_NAME PCO_CODE   PRACTICE_NAME  \\\n",
       "0  NHS CORNWALL AND THE ISLES OF SCILLY ICB    11N00  BOSVENA HEALTH   \n",
       "1  NHS CORNWALL AND THE ISLES OF SCILLY ICB    11N00  BOSVENA HEALTH   \n",
       "2  NHS CORNWALL AND THE ISLES OF SCILLY ICB    11N00  BOSVENA HEALTH   \n",
       "3  NHS CORNWALL AND THE ISLES OF SCILLY ICB    11N00  BOSVENA HEALTH   \n",
       "4  NHS CORNWALL AND THE ISLES OF SCILLY ICB    11N00  BOSVENA HEALTH   \n",
       "\n",
       "  PRACTICE_CODE                  ADDRESS_1  ...         BNF_CODE  \\\n",
       "0        L82010  STILLMOOR HOUSE MED PRACT  ...  0407020A0AAAUAU   \n",
       "1        L82010  STILLMOOR HOUSE MED PRACT  ...  0407020A0AAAUAU   \n",
       "2        L82010  STILLMOOR HOUSE MED PRACT  ...  0407020A0BBAIAE   \n",
       "3        L82010  STILLMOOR HOUSE MED PRACT  ...  0407020A0BBAJAF   \n",
       "4        L82010  STILLMOOR HOUSE MED PRACT  ...  0407020A0BQACAF   \n",
       "\n",
       "                                     BNF_DESCRIPTION  \\\n",
       "0     Fentanyl 12micrograms/hour transdermal patches   \n",
       "1     Fentanyl 12micrograms/hour transdermal patches   \n",
       "2  Durogesic DTrans 25micrograms/hour transdermal...   \n",
       "3  Durogesic DTrans 50micrograms/hour transdermal...   \n",
       "4      Fencino 50micrograms/hour transdermal patches   \n",
       "\n",
       "        BNF_CHAPTER_PLUS_CODE QUANTITY ITEMS TOTAL_QUANTITY ADQUSAGE     NIC  \\\n",
       "0  04: Central Nervous System      5.0     3           15.0      0.0   37.77   \n",
       "1  04: Central Nervous System     10.0     1           10.0      0.0   25.18   \n",
       "2  04: Central Nervous System     10.0     1           10.0      0.0   35.98   \n",
       "3  04: Central Nervous System     10.0     2           20.0     60.0  134.64   \n",
       "4  04: Central Nervous System      5.0     2           10.0     30.0   45.24   \n",
       "\n",
       "  ACTUAL_COST  UNIDENTIFIED  \n",
       "0    35.44497             N  \n",
       "1    23.61758             N  \n",
       "2    33.74212             N  \n",
       "3   126.24407             N  \n",
       "4    42.43537             N  \n",
       "\n",
       "[5 rows x 26 columns]"
      ]
     },
     "execution_count": 4,
     "metadata": {},
     "output_type": "execute_result"
    }
   ],
   "source": [
    "df.limit(5).toPandas()"
   ]
  },
  {
   "cell_type": "code",
   "execution_count": 5,
   "metadata": {},
   "outputs": [
    {
     "name": "stdout",
     "output_type": "stream",
     "text": [
      "root\n",
      " |-- YEAR_MONTH: integer (nullable = true)\n",
      " |-- REGIONAL_OFFICE_NAME: string (nullable = true)\n",
      " |-- REGIONAL_OFFICE_CODE: string (nullable = true)\n",
      " |-- ICB_NAME: string (nullable = true)\n",
      " |-- ICB_CODE: string (nullable = true)\n",
      " |-- PCO_NAME: string (nullable = true)\n",
      " |-- PCO_CODE: string (nullable = true)\n",
      " |-- PRACTICE_NAME: string (nullable = true)\n",
      " |-- PRACTICE_CODE: string (nullable = true)\n",
      " |-- ADDRESS_1: string (nullable = true)\n",
      " |-- ADDRESS_2: string (nullable = true)\n",
      " |-- ADDRESS_3: string (nullable = true)\n",
      " |-- ADDRESS_4: string (nullable = true)\n",
      " |-- POSTCODE: string (nullable = true)\n",
      " |-- BNF_CHEMICAL_SUBSTANCE: string (nullable = true)\n",
      " |-- CHEMICAL_SUBSTANCE_BNF_DESCR: string (nullable = true)\n",
      " |-- BNF_CODE: string (nullable = true)\n",
      " |-- BNF_DESCRIPTION: string (nullable = true)\n",
      " |-- BNF_CHAPTER_PLUS_CODE: string (nullable = true)\n",
      " |-- QUANTITY: double (nullable = true)\n",
      " |-- ITEMS: integer (nullable = true)\n",
      " |-- TOTAL_QUANTITY: double (nullable = true)\n",
      " |-- ADQUSAGE: double (nullable = true)\n",
      " |-- NIC: double (nullable = true)\n",
      " |-- ACTUAL_COST: double (nullable = true)\n",
      " |-- UNIDENTIFIED: string (nullable = true)\n",
      "\n"
     ]
    }
   ],
   "source": [
    "df.printSchema()"
   ]
  },
  {
   "cell_type": "code",
   "execution_count": 7,
   "metadata": {},
   "outputs": [
    {
     "name": "stderr",
     "output_type": "stream",
     "text": [
      "                                                                                \r"
     ]
    },
    {
     "data": {
      "text/plain": [
       "17238532"
      ]
     },
     "execution_count": 7,
     "metadata": {},
     "output_type": "execute_result"
    }
   ],
   "source": [
    "df.count()"
   ]
  },
  {
   "attachments": {},
   "cell_type": "markdown",
   "metadata": {},
   "source": [
    "##As informações do dataset referentes aos \"prescribers\", ou seja, pessoas ou organizações que prescreveram receitas, são representadas por todas as colunas desde a primeira(\"REGIONAL_OFFICE_NAME\") até a coluna \"POST_CODE\". A coluna mais relevante é a \"PCO_NAME\", que equivale ao nome da clínica, hospital ou semelhantes."
   ]
  },
  {
   "cell_type": "code",
   "execution_count": 6,
   "metadata": {},
   "outputs": [
    {
     "name": "stderr",
     "output_type": "stream",
     "text": [
      "[Stage 6:======================================================>  (24 + 1) / 25]\r"
     ]
    },
    {
     "name": "stdout",
     "output_type": "stream",
     "text": [
      "+----------+--------------------+--------------------+--------+--------+--------+--------+-------------+-------------+---------+---------+---------+---------+--------+----------------------+----------------------------+--------+---------------+---------------------+--------+-----+--------------+--------+---+-----------+------------+\n",
      "|YEAR_MONTH|REGIONAL_OFFICE_NAME|REGIONAL_OFFICE_CODE|ICB_NAME|ICB_CODE|PCO_NAME|PCO_CODE|PRACTICE_NAME|PRACTICE_CODE|ADDRESS_1|ADDRESS_2|ADDRESS_3|ADDRESS_4|POSTCODE|BNF_CHEMICAL_SUBSTANCE|CHEMICAL_SUBSTANCE_BNF_DESCR|BNF_CODE|BNF_DESCRIPTION|BNF_CHAPTER_PLUS_CODE|QUANTITY|ITEMS|TOTAL_QUANTITY|ADQUSAGE|NIC|ACTUAL_COST|UNIDENTIFIED|\n",
      "+----------+--------------------+--------------------+--------+--------+--------+--------+-------------+-------------+---------+---------+---------+---------+--------+----------------------+----------------------------+--------+---------------+---------------------+--------+-----+--------------+--------+---+-----------+------------+\n",
      "+----------+--------------------+--------------------+--------+--------+--------+--------+-------------+-------------+---------+---------+---------+---------+--------+----------------------+----------------------------+--------+---------------+---------------------+--------+-----+--------------+--------+---+-----------+------------+\n",
      "\n"
     ]
    },
    {
     "name": "stderr",
     "output_type": "stream",
     "text": [
      "                                                                                \r"
     ]
    }
   ],
   "source": [
    "df.filter(df.PCO_NAME.isNull()).show()\n",
    "##Como nenhum valor dessa coluna é nulo,\n",
    "##  um dataframe vazio foi retornado"
   ]
  },
  {
   "cell_type": "code",
   "execution_count": 8,
   "metadata": {},
   "outputs": [],
   "source": [
    "prescribers = df.select('YEAR_MONTH', 'REGIONAL_OFFICE_NAME', 'REGIONAL_OFFICE_CODE', 'ICB_NAME', 'ICB_CODE', 'PCO_NAME', 'PCO_CODE', 'PRACTICE_NAME', 'PRACTICE_CODE', 'ADDRESS_1', 'ADDRESS_3', 'ADDRESS_4', 'POSTCODE')"
   ]
  },
  {
   "cell_type": "code",
   "execution_count": 9,
   "metadata": {},
   "outputs": [
    {
     "name": "stdout",
     "output_type": "stream",
     "text": [
      "root\n",
      " |-- YEAR_MONTH: integer (nullable = true)\n",
      " |-- REGIONAL_OFFICE_NAME: string (nullable = true)\n",
      " |-- REGIONAL_OFFICE_CODE: string (nullable = true)\n",
      " |-- ICB_NAME: string (nullable = true)\n",
      " |-- ICB_CODE: string (nullable = true)\n",
      " |-- PCO_NAME: string (nullable = true)\n",
      " |-- PCO_CODE: string (nullable = true)\n",
      " |-- PRACTICE_NAME: string (nullable = true)\n",
      " |-- PRACTICE_CODE: string (nullable = true)\n",
      " |-- ADDRESS_1: string (nullable = true)\n",
      " |-- ADDRESS_3: string (nullable = true)\n",
      " |-- ADDRESS_4: string (nullable = true)\n",
      " |-- POSTCODE: string (nullable = true)\n",
      "\n"
     ]
    }
   ],
   "source": [
    "prescribers.printSchema()"
   ]
  },
  {
   "cell_type": "code",
   "execution_count": 10,
   "metadata": {},
   "outputs": [
    {
     "data": {
      "text/html": [
       "<div>\n",
       "<style scoped>\n",
       "    .dataframe tbody tr th:only-of-type {\n",
       "        vertical-align: middle;\n",
       "    }\n",
       "\n",
       "    .dataframe tbody tr th {\n",
       "        vertical-align: top;\n",
       "    }\n",
       "\n",
       "    .dataframe thead th {\n",
       "        text-align: right;\n",
       "    }\n",
       "</style>\n",
       "<table border=\"1\" class=\"dataframe\">\n",
       "  <thead>\n",
       "    <tr style=\"text-align: right;\">\n",
       "      <th></th>\n",
       "      <th>YEAR_MONTH</th>\n",
       "      <th>REGIONAL_OFFICE_NAME</th>\n",
       "      <th>REGIONAL_OFFICE_CODE</th>\n",
       "      <th>ICB_NAME</th>\n",
       "      <th>ICB_CODE</th>\n",
       "      <th>PCO_NAME</th>\n",
       "      <th>PCO_CODE</th>\n",
       "      <th>PRACTICE_NAME</th>\n",
       "      <th>PRACTICE_CODE</th>\n",
       "      <th>ADDRESS_1</th>\n",
       "      <th>ADDRESS_3</th>\n",
       "      <th>ADDRESS_4</th>\n",
       "      <th>POSTCODE</th>\n",
       "    </tr>\n",
       "  </thead>\n",
       "  <tbody>\n",
       "    <tr>\n",
       "      <th>0</th>\n",
       "      <td>202302</td>\n",
       "      <td>SOUTH WEST</td>\n",
       "      <td>Y58</td>\n",
       "      <td>NHS CORNWALL AND THE ISLES OF SCILLY INT</td>\n",
       "      <td>QT6</td>\n",
       "      <td>NHS CORNWALL AND THE ISLES OF SCILLY ICB</td>\n",
       "      <td>11N00</td>\n",
       "      <td>BOSVENA HEALTH</td>\n",
       "      <td>L82010</td>\n",
       "      <td>STILLMOOR HOUSE MED PRACT</td>\n",
       "      <td>BODMIN</td>\n",
       "      <td>CORNWALL</td>\n",
       "      <td>PL31 2JJ</td>\n",
       "    </tr>\n",
       "    <tr>\n",
       "      <th>1</th>\n",
       "      <td>202302</td>\n",
       "      <td>SOUTH WEST</td>\n",
       "      <td>Y58</td>\n",
       "      <td>NHS CORNWALL AND THE ISLES OF SCILLY INT</td>\n",
       "      <td>QT6</td>\n",
       "      <td>NHS CORNWALL AND THE ISLES OF SCILLY ICB</td>\n",
       "      <td>11N00</td>\n",
       "      <td>BOSVENA HEALTH</td>\n",
       "      <td>L82010</td>\n",
       "      <td>STILLMOOR HOUSE MED PRACT</td>\n",
       "      <td>BODMIN</td>\n",
       "      <td>CORNWALL</td>\n",
       "      <td>PL31 2JJ</td>\n",
       "    </tr>\n",
       "    <tr>\n",
       "      <th>2</th>\n",
       "      <td>202302</td>\n",
       "      <td>SOUTH WEST</td>\n",
       "      <td>Y58</td>\n",
       "      <td>NHS CORNWALL AND THE ISLES OF SCILLY INT</td>\n",
       "      <td>QT6</td>\n",
       "      <td>NHS CORNWALL AND THE ISLES OF SCILLY ICB</td>\n",
       "      <td>11N00</td>\n",
       "      <td>BOSVENA HEALTH</td>\n",
       "      <td>L82010</td>\n",
       "      <td>STILLMOOR HOUSE MED PRACT</td>\n",
       "      <td>BODMIN</td>\n",
       "      <td>CORNWALL</td>\n",
       "      <td>PL31 2JJ</td>\n",
       "    </tr>\n",
       "    <tr>\n",
       "      <th>3</th>\n",
       "      <td>202302</td>\n",
       "      <td>SOUTH WEST</td>\n",
       "      <td>Y58</td>\n",
       "      <td>NHS CORNWALL AND THE ISLES OF SCILLY INT</td>\n",
       "      <td>QT6</td>\n",
       "      <td>NHS CORNWALL AND THE ISLES OF SCILLY ICB</td>\n",
       "      <td>11N00</td>\n",
       "      <td>BOSVENA HEALTH</td>\n",
       "      <td>L82010</td>\n",
       "      <td>STILLMOOR HOUSE MED PRACT</td>\n",
       "      <td>BODMIN</td>\n",
       "      <td>CORNWALL</td>\n",
       "      <td>PL31 2JJ</td>\n",
       "    </tr>\n",
       "    <tr>\n",
       "      <th>4</th>\n",
       "      <td>202302</td>\n",
       "      <td>SOUTH WEST</td>\n",
       "      <td>Y58</td>\n",
       "      <td>NHS CORNWALL AND THE ISLES OF SCILLY INT</td>\n",
       "      <td>QT6</td>\n",
       "      <td>NHS CORNWALL AND THE ISLES OF SCILLY ICB</td>\n",
       "      <td>11N00</td>\n",
       "      <td>BOSVENA HEALTH</td>\n",
       "      <td>L82010</td>\n",
       "      <td>STILLMOOR HOUSE MED PRACT</td>\n",
       "      <td>BODMIN</td>\n",
       "      <td>CORNWALL</td>\n",
       "      <td>PL31 2JJ</td>\n",
       "    </tr>\n",
       "  </tbody>\n",
       "</table>\n",
       "</div>"
      ],
      "text/plain": [
       "   YEAR_MONTH REGIONAL_OFFICE_NAME REGIONAL_OFFICE_CODE  \\\n",
       "0      202302           SOUTH WEST                  Y58   \n",
       "1      202302           SOUTH WEST                  Y58   \n",
       "2      202302           SOUTH WEST                  Y58   \n",
       "3      202302           SOUTH WEST                  Y58   \n",
       "4      202302           SOUTH WEST                  Y58   \n",
       "\n",
       "                                   ICB_NAME ICB_CODE  \\\n",
       "0  NHS CORNWALL AND THE ISLES OF SCILLY INT      QT6   \n",
       "1  NHS CORNWALL AND THE ISLES OF SCILLY INT      QT6   \n",
       "2  NHS CORNWALL AND THE ISLES OF SCILLY INT      QT6   \n",
       "3  NHS CORNWALL AND THE ISLES OF SCILLY INT      QT6   \n",
       "4  NHS CORNWALL AND THE ISLES OF SCILLY INT      QT6   \n",
       "\n",
       "                                   PCO_NAME PCO_CODE   PRACTICE_NAME  \\\n",
       "0  NHS CORNWALL AND THE ISLES OF SCILLY ICB    11N00  BOSVENA HEALTH   \n",
       "1  NHS CORNWALL AND THE ISLES OF SCILLY ICB    11N00  BOSVENA HEALTH   \n",
       "2  NHS CORNWALL AND THE ISLES OF SCILLY ICB    11N00  BOSVENA HEALTH   \n",
       "3  NHS CORNWALL AND THE ISLES OF SCILLY ICB    11N00  BOSVENA HEALTH   \n",
       "4  NHS CORNWALL AND THE ISLES OF SCILLY ICB    11N00  BOSVENA HEALTH   \n",
       "\n",
       "  PRACTICE_CODE                  ADDRESS_1 ADDRESS_3 ADDRESS_4  POSTCODE  \n",
       "0        L82010  STILLMOOR HOUSE MED PRACT    BODMIN  CORNWALL  PL31 2JJ  \n",
       "1        L82010  STILLMOOR HOUSE MED PRACT    BODMIN  CORNWALL  PL31 2JJ  \n",
       "2        L82010  STILLMOOR HOUSE MED PRACT    BODMIN  CORNWALL  PL31 2JJ  \n",
       "3        L82010  STILLMOOR HOUSE MED PRACT    BODMIN  CORNWALL  PL31 2JJ  \n",
       "4        L82010  STILLMOOR HOUSE MED PRACT    BODMIN  CORNWALL  PL31 2JJ  "
      ]
     },
     "execution_count": 10,
     "metadata": {},
     "output_type": "execute_result"
    }
   ],
   "source": [
    "prescribers.limit(5).toPandas()"
   ]
  },
  {
   "cell_type": "code",
   "execution_count": 11,
   "metadata": {},
   "outputs": [
    {
     "name": "stderr",
     "output_type": "stream",
     "text": [
      "                                                                                \r"
     ]
    },
    {
     "data": {
      "text/plain": [
       "17238532"
      ]
     },
     "execution_count": 11,
     "metadata": {},
     "output_type": "execute_result"
    }
   ],
   "source": [
    "prescribers.count()\n",
    "##possui o mesmo número de linhas que o df original,\n",
    "## portanto, o novo df possui todos os prescribers\n",
    "## da fonte"
   ]
  },
  {
   "cell_type": "code",
   "execution_count": 12,
   "metadata": {},
   "outputs": [
    {
     "name": "stderr",
     "output_type": "stream",
     "text": [
      "                                                                                \r"
     ]
    }
   ],
   "source": [
    "prescribers.write.parquet(\"prescribers.parquet\")\n",
    "##Escolhi salvar em arquivos parquet para ser\n",
    "##mais rápido e de menor tamanho, mas salvar em \n",
    "## csv seria semelhante"
   ]
  },
  {
   "attachments": {},
   "cell_type": "markdown",
   "metadata": {},
   "source": [
    "##As informações do dataset referentes as \"prescriptions\", ou seja, receitas escritas por prescribers, são representadas por todas as colunas desde a \"BNF_CHEMICAL_SUBSTANCE\" até a coluna \"UNIDENTIFIED\". A coluna mais relevante é a \"BNF_DESCRIPTION\", que descreve informações como tipo, dosagem e nome comum da droga receitada"
   ]
  },
  {
   "cell_type": "code",
   "execution_count": 14,
   "metadata": {},
   "outputs": [
    {
     "name": "stderr",
     "output_type": "stream",
     "text": [
      "[Stage 18:=====================================================>  (24 + 1) / 25]\r"
     ]
    },
    {
     "name": "stdout",
     "output_type": "stream",
     "text": [
      "+----------+--------------------+--------------------+--------+--------+--------+--------+-------------+-------------+---------+---------+---------+---------+--------+----------------------+----------------------------+--------+---------------+---------------------+--------+-----+--------------+--------+---+-----------+------------+\n",
      "|YEAR_MONTH|REGIONAL_OFFICE_NAME|REGIONAL_OFFICE_CODE|ICB_NAME|ICB_CODE|PCO_NAME|PCO_CODE|PRACTICE_NAME|PRACTICE_CODE|ADDRESS_1|ADDRESS_2|ADDRESS_3|ADDRESS_4|POSTCODE|BNF_CHEMICAL_SUBSTANCE|CHEMICAL_SUBSTANCE_BNF_DESCR|BNF_CODE|BNF_DESCRIPTION|BNF_CHAPTER_PLUS_CODE|QUANTITY|ITEMS|TOTAL_QUANTITY|ADQUSAGE|NIC|ACTUAL_COST|UNIDENTIFIED|\n",
      "+----------+--------------------+--------------------+--------+--------+--------+--------+-------------+-------------+---------+---------+---------+---------+--------+----------------------+----------------------------+--------+---------------+---------------------+--------+-----+--------------+--------+---+-----------+------------+\n",
      "+----------+--------------------+--------------------+--------+--------+--------+--------+-------------+-------------+---------+---------+---------+---------+--------+----------------------+----------------------------+--------+---------------+---------------------+--------+-----+--------------+--------+---+-----------+------------+\n",
      "\n"
     ]
    },
    {
     "name": "stderr",
     "output_type": "stream",
     "text": [
      "                                                                                \r"
     ]
    }
   ],
   "source": [
    "df.filter(df.BNF_DESCRIPTION.isNull()).show()\n",
    "##Como nenhum valor dessa coluna é nulo,\n",
    "##  um dataframe vazio foi retornado"
   ]
  },
  {
   "cell_type": "code",
   "execution_count": 13,
   "metadata": {},
   "outputs": [],
   "source": [
    "prescriptions = df.select('YEAR_MONTH', 'BNF_CHEMICAL_SUBSTANCE', 'CHEMICAL_SUBSTANCE_BNF_DESCR', 'BNF_CODE', 'BNF_DESCRIPTION', 'BNF_CHAPTER_PLUS_CODE', 'QUANTITY', 'ITEMS', 'TOTAL_QUANTITY', 'ADQUSAGE', 'NIC', 'ACTUAL_COST', 'UNIDENTIFIED')"
   ]
  },
  {
   "cell_type": "code",
   "execution_count": 15,
   "metadata": {},
   "outputs": [
    {
     "name": "stdout",
     "output_type": "stream",
     "text": [
      "root\n",
      " |-- YEAR_MONTH: integer (nullable = true)\n",
      " |-- BNF_CHEMICAL_SUBSTANCE: string (nullable = true)\n",
      " |-- CHEMICAL_SUBSTANCE_BNF_DESCR: string (nullable = true)\n",
      " |-- BNF_CODE: string (nullable = true)\n",
      " |-- BNF_DESCRIPTION: string (nullable = true)\n",
      " |-- BNF_CHAPTER_PLUS_CODE: string (nullable = true)\n",
      " |-- QUANTITY: double (nullable = true)\n",
      " |-- ITEMS: integer (nullable = true)\n",
      " |-- TOTAL_QUANTITY: double (nullable = true)\n",
      " |-- ADQUSAGE: double (nullable = true)\n",
      " |-- NIC: double (nullable = true)\n",
      " |-- ACTUAL_COST: double (nullable = true)\n",
      " |-- UNIDENTIFIED: string (nullable = true)\n",
      "\n"
     ]
    }
   ],
   "source": [
    "prescriptions.printSchema()"
   ]
  },
  {
   "cell_type": "code",
   "execution_count": 16,
   "metadata": {},
   "outputs": [
    {
     "data": {
      "text/html": [
       "<div>\n",
       "<style scoped>\n",
       "    .dataframe tbody tr th:only-of-type {\n",
       "        vertical-align: middle;\n",
       "    }\n",
       "\n",
       "    .dataframe tbody tr th {\n",
       "        vertical-align: top;\n",
       "    }\n",
       "\n",
       "    .dataframe thead th {\n",
       "        text-align: right;\n",
       "    }\n",
       "</style>\n",
       "<table border=\"1\" class=\"dataframe\">\n",
       "  <thead>\n",
       "    <tr style=\"text-align: right;\">\n",
       "      <th></th>\n",
       "      <th>YEAR_MONTH</th>\n",
       "      <th>BNF_CHEMICAL_SUBSTANCE</th>\n",
       "      <th>CHEMICAL_SUBSTANCE_BNF_DESCR</th>\n",
       "      <th>BNF_CODE</th>\n",
       "      <th>BNF_DESCRIPTION</th>\n",
       "      <th>BNF_CHAPTER_PLUS_CODE</th>\n",
       "      <th>QUANTITY</th>\n",
       "      <th>ITEMS</th>\n",
       "      <th>TOTAL_QUANTITY</th>\n",
       "      <th>ADQUSAGE</th>\n",
       "      <th>NIC</th>\n",
       "      <th>ACTUAL_COST</th>\n",
       "      <th>UNIDENTIFIED</th>\n",
       "    </tr>\n",
       "  </thead>\n",
       "  <tbody>\n",
       "    <tr>\n",
       "      <th>0</th>\n",
       "      <td>202302</td>\n",
       "      <td>0407020A0</td>\n",
       "      <td>Fentanyl</td>\n",
       "      <td>0407020A0AAAUAU</td>\n",
       "      <td>Fentanyl 12micrograms/hour transdermal patches</td>\n",
       "      <td>04: Central Nervous System</td>\n",
       "      <td>5.0</td>\n",
       "      <td>3</td>\n",
       "      <td>15.0</td>\n",
       "      <td>0.0</td>\n",
       "      <td>37.77</td>\n",
       "      <td>35.44497</td>\n",
       "      <td>N</td>\n",
       "    </tr>\n",
       "    <tr>\n",
       "      <th>1</th>\n",
       "      <td>202302</td>\n",
       "      <td>0407020A0</td>\n",
       "      <td>Fentanyl</td>\n",
       "      <td>0407020A0AAAUAU</td>\n",
       "      <td>Fentanyl 12micrograms/hour transdermal patches</td>\n",
       "      <td>04: Central Nervous System</td>\n",
       "      <td>10.0</td>\n",
       "      <td>1</td>\n",
       "      <td>10.0</td>\n",
       "      <td>0.0</td>\n",
       "      <td>25.18</td>\n",
       "      <td>23.61758</td>\n",
       "      <td>N</td>\n",
       "    </tr>\n",
       "    <tr>\n",
       "      <th>2</th>\n",
       "      <td>202302</td>\n",
       "      <td>0407020A0</td>\n",
       "      <td>Fentanyl</td>\n",
       "      <td>0407020A0BBAIAE</td>\n",
       "      <td>Durogesic DTrans 25micrograms/hour transdermal...</td>\n",
       "      <td>04: Central Nervous System</td>\n",
       "      <td>10.0</td>\n",
       "      <td>1</td>\n",
       "      <td>10.0</td>\n",
       "      <td>0.0</td>\n",
       "      <td>35.98</td>\n",
       "      <td>33.74212</td>\n",
       "      <td>N</td>\n",
       "    </tr>\n",
       "    <tr>\n",
       "      <th>3</th>\n",
       "      <td>202302</td>\n",
       "      <td>0407020A0</td>\n",
       "      <td>Fentanyl</td>\n",
       "      <td>0407020A0BBAJAF</td>\n",
       "      <td>Durogesic DTrans 50micrograms/hour transdermal...</td>\n",
       "      <td>04: Central Nervous System</td>\n",
       "      <td>10.0</td>\n",
       "      <td>2</td>\n",
       "      <td>20.0</td>\n",
       "      <td>60.0</td>\n",
       "      <td>134.64</td>\n",
       "      <td>126.24407</td>\n",
       "      <td>N</td>\n",
       "    </tr>\n",
       "    <tr>\n",
       "      <th>4</th>\n",
       "      <td>202302</td>\n",
       "      <td>0407020A0</td>\n",
       "      <td>Fentanyl</td>\n",
       "      <td>0407020A0BQACAF</td>\n",
       "      <td>Fencino 50micrograms/hour transdermal patches</td>\n",
       "      <td>04: Central Nervous System</td>\n",
       "      <td>5.0</td>\n",
       "      <td>2</td>\n",
       "      <td>10.0</td>\n",
       "      <td>30.0</td>\n",
       "      <td>45.24</td>\n",
       "      <td>42.43537</td>\n",
       "      <td>N</td>\n",
       "    </tr>\n",
       "  </tbody>\n",
       "</table>\n",
       "</div>"
      ],
      "text/plain": [
       "   YEAR_MONTH BNF_CHEMICAL_SUBSTANCE CHEMICAL_SUBSTANCE_BNF_DESCR  \\\n",
       "0      202302              0407020A0                     Fentanyl   \n",
       "1      202302              0407020A0                     Fentanyl   \n",
       "2      202302              0407020A0                     Fentanyl   \n",
       "3      202302              0407020A0                     Fentanyl   \n",
       "4      202302              0407020A0                     Fentanyl   \n",
       "\n",
       "          BNF_CODE                                    BNF_DESCRIPTION  \\\n",
       "0  0407020A0AAAUAU     Fentanyl 12micrograms/hour transdermal patches   \n",
       "1  0407020A0AAAUAU     Fentanyl 12micrograms/hour transdermal patches   \n",
       "2  0407020A0BBAIAE  Durogesic DTrans 25micrograms/hour transdermal...   \n",
       "3  0407020A0BBAJAF  Durogesic DTrans 50micrograms/hour transdermal...   \n",
       "4  0407020A0BQACAF      Fencino 50micrograms/hour transdermal patches   \n",
       "\n",
       "        BNF_CHAPTER_PLUS_CODE  QUANTITY  ITEMS  TOTAL_QUANTITY  ADQUSAGE  \\\n",
       "0  04: Central Nervous System       5.0      3            15.0       0.0   \n",
       "1  04: Central Nervous System      10.0      1            10.0       0.0   \n",
       "2  04: Central Nervous System      10.0      1            10.0       0.0   \n",
       "3  04: Central Nervous System      10.0      2            20.0      60.0   \n",
       "4  04: Central Nervous System       5.0      2            10.0      30.0   \n",
       "\n",
       "      NIC  ACTUAL_COST UNIDENTIFIED  \n",
       "0   37.77     35.44497            N  \n",
       "1   25.18     23.61758            N  \n",
       "2   35.98     33.74212            N  \n",
       "3  134.64    126.24407            N  \n",
       "4   45.24     42.43537            N  "
      ]
     },
     "execution_count": 16,
     "metadata": {},
     "output_type": "execute_result"
    }
   ],
   "source": [
    "prescriptions.limit(5).toPandas()"
   ]
  },
  {
   "cell_type": "code",
   "execution_count": 17,
   "metadata": {},
   "outputs": [
    {
     "name": "stderr",
     "output_type": "stream",
     "text": [
      "                                                                                \r"
     ]
    },
    {
     "data": {
      "text/plain": [
       "17238532"
      ]
     },
     "execution_count": 17,
     "metadata": {},
     "output_type": "execute_result"
    }
   ],
   "source": [
    "prescriptions.count()\n",
    "##possui o mesmo número de linhas que o df original,\n",
    "## portanto, o novo df possui todos as prescriptions\n",
    "## da fonte"
   ]
  },
  {
   "cell_type": "code",
   "execution_count": 18,
   "metadata": {},
   "outputs": [
    {
     "name": "stderr",
     "output_type": "stream",
     "text": [
      "                                                                                \r"
     ]
    }
   ],
   "source": [
    "prescriptions.write.parquet(\"prescriptions.parquet\")"
   ]
  }
 ],
 "metadata": {
  "kernelspec": {
   "display_name": "Python 3",
   "language": "python",
   "name": "python3"
  },
  "language_info": {
   "codemirror_mode": {
    "name": "ipython",
    "version": 3
   },
   "file_extension": ".py",
   "mimetype": "text/x-python",
   "name": "python",
   "nbconvert_exporter": "python",
   "pygments_lexer": "ipython3",
   "version": "3.8.10"
  },
  "orig_nbformat": 4
 },
 "nbformat": 4,
 "nbformat_minor": 2
}
